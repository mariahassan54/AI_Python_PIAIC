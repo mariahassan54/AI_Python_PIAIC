{
 "cells": [
  {
   "cell_type": "markdown",
   "metadata": {},
   "source": [
    "# CLASS"
   ]
  },
  {
   "cell_type": "code",
   "execution_count": 1,
   "metadata": {},
   "outputs": [],
   "source": [
    "s1name = \"A\"\n",
    "s1fname = \"AF\"\n",
    "s1age = 20\n",
    "\n",
    "def s1login(): pass\n",
    "def s1logout(): pass\n",
    "def s1quiz(): pass\n",
    "\n",
    "s2name = \"B\"\n",
    "s2fname = \"BF\"\n",
    "s2age = 30\n",
    "\n",
    "def s2login(): pass\n",
    "def s2logout(): pass\n",
    "def s2quiz(): pass\n",
    "\n",
    "# suppose this data was for a group of 50 students, then we would have \n",
    "#to create that many variables and functions \n",
    "# which would be time consuming\n",
    "# and be a really long code\n",
    "\n",
    "\n"
   ]
  },
  {
   "cell_type": "code",
   "execution_count": 2,
   "metadata": {},
   "outputs": [],
   "source": [
    "#class\n",
    "class Student(): \n",
    "    pass\n",
    "\n",
    "s1 = Student() #instance/object calling constructor\n"
   ]
  },
  {
   "cell_type": "markdown",
   "metadata": {},
   "source": [
    "## METHOD AND ATTRIBUTES"
   ]
  },
  {
   "cell_type": "code",
   "execution_count": 5,
   "metadata": {},
   "outputs": [
    {
     "name": "stdout",
     "output_type": "stream",
     "text": [
      "1\n",
      "2\n",
      "3\n"
     ]
    }
   ],
   "source": [
    "class Student():\n",
    "    \n",
    "    def __init__(self, sid): #Constructor\n",
    "        self.sid = sid # Attributes/Properties/DataMembers/Fields\n",
    "        self.name = \"\"\n",
    "        self.fname = \"\"\n",
    "        self.DOB = 0\n",
    "        \n",
    "    def login(self, user, password):\n",
    "        self.name = user\n",
    "        print(\"Welcome!\", self.name)\n",
    "    \n",
    "    def logout(self):\n",
    "        print(\"Logout!\")\n",
    "        \n",
    "   \n",
    "s1 = Student(1)\n",
    "s2 = Student(2)\n",
    "s3 = Student(3)\n",
    "  \n",
    "print(s1.sid, s2.sid, s3.sid, sep=\"\\n\")"
   ]
  },
  {
   "cell_type": "code",
   "execution_count": 8,
   "metadata": {},
   "outputs": [
    {
     "name": "stdout",
     "output_type": "stream",
     "text": [
      "A\n",
      "B\n",
      "C\n"
     ]
    }
   ],
   "source": [
    "s1.name = \"A\"\n",
    "s2.name = \"B\"\n",
    "s3.name = \"C\"\n",
    "\n",
    "print(s1.name, s2.name, s3.name, sep=\"\\n\")"
   ]
  },
  {
   "cell_type": "code",
   "execution_count": 9,
   "metadata": {},
   "outputs": [
    {
     "name": "stdout",
     "output_type": "stream",
     "text": [
      "Welcome! Maria\n"
     ]
    }
   ],
   "source": [
    "s3.login(\"Maria\",\"123\")"
   ]
  },
  {
   "cell_type": "markdown",
   "metadata": {},
   "source": [
    "## CLASS VARIABLE"
   ]
  },
  {
   "cell_type": "code",
   "execution_count": 15,
   "metadata": {},
   "outputs": [],
   "source": [
    "class Student():\n",
    "    \n",
    "    counter = 0 # Class Variable  \n",
    "    \n",
    "    def __init__(self, sid): #Constructor\n",
    "        self.sid = sid # Attributes/Properties/DataMembers/Fields\n",
    "        self.name = \"\"\n",
    "        self.fname = \"\"\n",
    "        self.DOB = 0\n",
    "        Student.counter += 1 # update class var\n",
    "        \n",
    "    def login(self, user, password):\n",
    "        self.name = user\n",
    "        print(\"Welcome!\", self.name)\n",
    "    \n",
    "    def logout(self):\n",
    "        print(\"Logout!\")"
   ]
  },
  {
   "cell_type": "code",
   "execution_count": 16,
   "metadata": {},
   "outputs": [
    {
     "data": {
      "text/plain": [
       "3"
      ]
     },
     "execution_count": 16,
     "metadata": {},
     "output_type": "execute_result"
    }
   ],
   "source": [
    "s1 = Student(1)\n",
    "s2 = Student(2)\n",
    "s3 = Student(3)\n",
    "  \n",
    "Student.counter # Calling with Class Ref"
   ]
  },
  {
   "cell_type": "code",
   "execution_count": 17,
   "metadata": {},
   "outputs": [
    {
     "data": {
      "text/plain": [
       "3"
      ]
     },
     "execution_count": 17,
     "metadata": {},
     "output_type": "execute_result"
    }
   ],
   "source": [
    "s1.counter"
   ]
  },
  {
   "cell_type": "markdown",
   "metadata": {},
   "source": [
    "## INHERITANCE"
   ]
  },
  {
   "cell_type": "code",
   "execution_count": 23,
   "metadata": {},
   "outputs": [
    {
     "name": "stdout",
     "output_type": "stream",
     "text": [
      "Brown\n"
     ]
    }
   ],
   "source": [
    "class Parent():\n",
    "    def __init__(self):\n",
    "        self.name = \"PN\"\n",
    "        self.id  = 0\n",
    "        self.eye_color = \"Brown\"\n",
    "        \n",
    "    def speak(self):\n",
    "        print(\"Parent Speaking..\")\n",
    "    \n",
    "    def eat(self):\n",
    "        print(\"Eating food...\")\n",
    "        \n",
    "\n",
    "class Child(Parent):\n",
    "    pass\n",
    "\n",
    "p1 = Parent()\n",
    "print(p1.eye_color)\n",
    "\n",
    "c1 = Child()\n"
   ]
  },
  {
   "cell_type": "code",
   "execution_count": 29,
   "metadata": {},
   "outputs": [
    {
     "data": {
      "text/plain": [
       "'Black'"
      ]
     },
     "execution_count": 29,
     "metadata": {},
     "output_type": "execute_result"
    }
   ],
   "source": [
    "class Father():\n",
    "    def __init__(self):\n",
    "        self.eye_color = \"Brown\"\n",
    "        self.face_color = \"White\"\n",
    "        self.hair_color = \"Black\"\n",
    "    def speak(self): print(\"Father speaking\")\n",
    "    def eat(self): print(\"Father eating\")\n",
    "        \n",
    "class Mother():\n",
    "    def __intit(self):\n",
    "        self.height = \"Mheight\"\n",
    "        self.weight = \"Mweight\"\n",
    "        self.hair_color = \"DarkBrown\"\n",
    "    def listing(self): print(\"Fatherlisitng\")\n",
    "    def eat(self): print(\"Mother eating\")\n",
    "        \n",
    "class Child(Father,Mother):\n",
    "    pass\n",
    "\n",
    "c1 = Child()\n",
    "c1.hair_color"
   ]
  },
  {
   "cell_type": "code",
   "execution_count": 30,
   "metadata": {},
   "outputs": [
    {
     "data": {
      "text/plain": [
       "'Black'"
      ]
     },
     "execution_count": 30,
     "metadata": {},
     "output_type": "execute_result"
    }
   ],
   "source": [
    "c1.hair_color"
   ]
  },
  {
   "cell_type": "code",
   "execution_count": 32,
   "metadata": {},
   "outputs": [
    {
     "name": "stdout",
     "output_type": "stream",
     "text": [
      "Father eating\n"
     ]
    }
   ],
   "source": [
    "c1.eat()"
   ]
  },
  {
   "cell_type": "code",
   "execution_count": 36,
   "metadata": {},
   "outputs": [],
   "source": [
    "class Employee():\n",
    "    def __init__(self, id, name, salary):\n",
    "        self.id = id\n",
    "        self.name = name\n",
    "        self.salary = salary\n",
    "        \n",
    "class Developer(Employee):\n",
    "    def __init__(self,id, name, salary, designation):\n",
    "        super().__init__(id, name, salary)\n",
    "        self.designation = designation\n",
    "        \n",
    "d1 = Developer(1,\"Ali\",200000,\"Developer\")"
   ]
  },
  {
   "cell_type": "markdown",
   "metadata": {},
   "source": [
    "## POLYMORPHISM"
   ]
  },
  {
   "cell_type": "markdown",
   "metadata": {},
   "source": [
    "#### OVERLOADING"
   ]
  },
  {
   "cell_type": "code",
   "execution_count": 37,
   "metadata": {},
   "outputs": [
    {
     "name": "stdout",
     "output_type": "stream",
     "text": [
      "13\n",
      "15\n",
      "27\n"
     ]
    }
   ],
   "source": [
    "class A():\n",
    "    def abc(self, *n):\n",
    "        print(sum(n))\n",
    "        \n",
    "obj1 = A()\n",
    "obj1.abc(1,3,3,6)\n",
    "obj1.abc(5,8,2)\n",
    "obj1.abc(7,20)"
   ]
  },
  {
   "cell_type": "markdown",
   "metadata": {},
   "source": [
    "#### OVERRIDING"
   ]
  },
  {
   "cell_type": "code",
   "execution_count": 39,
   "metadata": {},
   "outputs": [
    {
     "name": "stdout",
     "output_type": "stream",
     "text": [
      "Ba2\n"
     ]
    }
   ],
   "source": [
    "class A():\n",
    "    def a1(self):\n",
    "        print(\"Aa1\")\n",
    "    def a2(self):\n",
    "        print(\"Aa2\")\n",
    "class B(A):\n",
    "    def a2(self):\n",
    "        print(\"Ba2\") #overriding\n",
    "obj1 = B()\n",
    "obj1.a2()"
   ]
  },
  {
   "cell_type": "code",
   "execution_count": null,
   "metadata": {},
   "outputs": [],
   "source": []
  }
 ],
 "metadata": {
  "kernelspec": {
   "display_name": "Python 3",
   "language": "python",
   "name": "python3"
  },
  "language_info": {
   "codemirror_mode": {
    "name": "ipython",
    "version": 3
   },
   "file_extension": ".py",
   "mimetype": "text/x-python",
   "name": "python",
   "nbconvert_exporter": "python",
   "pygments_lexer": "ipython3",
   "version": "3.7.3"
  }
 },
 "nbformat": 4,
 "nbformat_minor": 4
}
