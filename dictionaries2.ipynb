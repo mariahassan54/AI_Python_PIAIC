{
 "cells": [
  {
   "cell_type": "code",
   "execution_count": 1,
   "metadata": {},
   "outputs": [
    {
     "name": "stdin",
     "output_type": "stream",
     "text": [
      "Keys a,b,c,d,e,f\n",
      "Values 1,2,3,4,5,6\n"
     ]
    },
    {
     "data": {
      "text/plain": [
       "{'a': '1', 'b': '2', 'c': '3', 'd': '4', 'e': '5', 'f': '6'}"
      ]
     },
     "execution_count": 1,
     "metadata": {},
     "output_type": "execute_result"
    }
   ],
   "source": [
    "a = input(\"Keys\").split(\",\")\n",
    "b = input(\"Values\").split(\",\")\n",
    "\n",
    "d1 = {}\n",
    "for i in range(len(a)):\n",
    "    d1[a[i]] = b[i]\n",
    "d1"
   ]
  },
  {
   "cell_type": "code",
   "execution_count": 3,
   "metadata": {},
   "outputs": [
    {
     "name": "stdin",
     "output_type": "stream",
     "text": [
      "Keys a,b,c,d,e\n",
      "Values 1,2,3,4,5\n"
     ]
    },
    {
     "name": "stdout",
     "output_type": "stream",
     "text": [
      "<zip object at 0x7fecb4114788>\n"
     ]
    },
    {
     "data": {
      "text/plain": [
       "{'a': '1', 'b': '2', 'c': '3', 'd': '4', 'e': '5'}"
      ]
     },
     "execution_count": 3,
     "metadata": {},
     "output_type": "execute_result"
    }
   ],
   "source": [
    "a = input(\"Keys\").split(\",\")\n",
    "b = input(\"Values\").split(\",\")\n",
    "\n",
    "c = zip(a,b)\n",
    "print(c)\n",
    "\n",
    "d1 = dict(c)\n",
    "d1"
   ]
  },
  {
   "cell_type": "code",
   "execution_count": 4,
   "metadata": {},
   "outputs": [
    {
     "data": {
      "text/plain": [
       "[(1, 'A'), (2, 'B'), (3, 'C')]"
      ]
     },
     "execution_count": 4,
     "metadata": {},
     "output_type": "execute_result"
    }
   ],
   "source": [
    "a = [1,2,3]\n",
    "b = [\"A\",\"B\",\"C\"]\n",
    "\n",
    "list(zip(a,b))"
   ]
  },
  {
   "cell_type": "code",
   "execution_count": 5,
   "metadata": {},
   "outputs": [
    {
     "name": "stdin",
     "output_type": "stream",
     "text": [
      "Enter keys:  a,b,c,d,e\n",
      "Enter values:  1,2,3,4,5\n"
     ]
    },
    {
     "name": "stdout",
     "output_type": "stream",
     "text": [
      "{'a': '1', 'b': '2', 'c': '3', 'd': '4', 'e': '5'}\n"
     ]
    }
   ],
   "source": [
    "d2 = {}\n",
    "\n",
    "keys = input(\"Enter keys: \").split(',')\n",
    "values = input(\"Enter values: \").split(',')\n",
    "d1 = dict.fromkeys(keys)\n",
    "ind = 0\n",
    "for element in d1:\n",
    "    d2[element] = values[ind]\n",
    "    ind = ind + 1\n",
    "    \n",
    "print(d2)"
   ]
  },
  {
   "cell_type": "code",
   "execution_count": 6,
   "metadata": {},
   "outputs": [
    {
     "name": "stdin",
     "output_type": "stream",
     "text": [
      "id:  200\n",
      "Name:  Maria\n",
      "Skills:  AI,web-scraping,c++\n"
     ]
    },
    {
     "data": {
      "text/plain": [
       "{'id': '200', 'name': 'Maria', 'skills': ['AI', 'web-scraping', 'c++']}"
      ]
     },
     "execution_count": 6,
     "metadata": {},
     "output_type": "execute_result"
    }
   ],
   "source": [
    "d1 = {\n",
    "    'id' : input(\"id: \"),\n",
    "    'name' : input(\"Name: \"),\n",
    "    'skills' : input(\"Skills: \").split(\",\")\n",
    "    \n",
    "}\n",
    "\n",
    "d1"
   ]
  },
  {
   "cell_type": "code",
   "execution_count": 7,
   "metadata": {},
   "outputs": [
    {
     "ename": "KeyError",
     "evalue": "'CNIC'",
     "output_type": "error",
     "traceback": [
      "\u001b[0;31m---------------------------------------------------------------------------\u001b[0m",
      "\u001b[0;31mKeyError\u001b[0m                                  Traceback (most recent call last)",
      "\u001b[0;32m<ipython-input-7-5ee0c8ce72a4>\u001b[0m in \u001b[0;36m<module>\u001b[0;34m\u001b[0m\n\u001b[1;32m      1\u001b[0m \u001b[0md1\u001b[0m \u001b[0;34m=\u001b[0m \u001b[0;34m{\u001b[0m\u001b[0;34m'id'\u001b[0m\u001b[0;34m:\u001b[0m\u001b[0;34m'200'\u001b[0m\u001b[0;34m,\u001b[0m\u001b[0;34m'name'\u001b[0m\u001b[0;34m:\u001b[0m\u001b[0;34m'Ali'\u001b[0m\u001b[0;34m,\u001b[0m\u001b[0;34m'skills'\u001b[0m\u001b[0;34m:\u001b[0m\u001b[0;34m[\u001b[0m\u001b[0;34m'a'\u001b[0m\u001b[0;34m,\u001b[0m\u001b[0;34m'b'\u001b[0m\u001b[0;34m,\u001b[0m\u001b[0;34m'c'\u001b[0m\u001b[0;34m,\u001b[0m\u001b[0;34m'd'\u001b[0m\u001b[0;34m]\u001b[0m\u001b[0;34m}\u001b[0m\u001b[0;34m\u001b[0m\u001b[0;34m\u001b[0m\u001b[0m\n\u001b[0;32m----> 2\u001b[0;31m \u001b[0md1\u001b[0m\u001b[0;34m[\u001b[0m\u001b[0;34m'CNIC'\u001b[0m\u001b[0;34m]\u001b[0m\u001b[0;34m\u001b[0m\u001b[0;34m\u001b[0m\u001b[0m\n\u001b[0m",
      "\u001b[0;31mKeyError\u001b[0m: 'CNIC'"
     ]
    }
   ],
   "source": [
    "d1 = {'id':'200','name':'Ali','skills':['a','b','c','d']}\n",
    "d1['CNIC']"
   ]
  },
  {
   "cell_type": "code",
   "execution_count": 9,
   "metadata": {},
   "outputs": [
    {
     "data": {
      "text/plain": [
       "'Not Avaliable'"
      ]
     },
     "execution_count": 9,
     "metadata": {},
     "output_type": "execute_result"
    }
   ],
   "source": [
    "d1 = {'id':'200','name':'Ali','skills':['a','b','c','d']}\n",
    "d1.get('CNIC',\"Not Avaliable\")\n"
   ]
  },
  {
   "cell_type": "code",
   "execution_count": 11,
   "metadata": {},
   "outputs": [
    {
     "data": {
      "text/plain": [
       "{'id': '200', 'name': 'Ali', 'skills': ['a', 'b', 'c', 'd']}"
      ]
     },
     "execution_count": 11,
     "metadata": {},
     "output_type": "execute_result"
    }
   ],
   "source": [
    "d1.get('fathers name',\"Not available\")\n",
    "d1 # value not updated in dictionary if not found"
   ]
  },
  {
   "cell_type": "code",
   "execution_count": 12,
   "metadata": {},
   "outputs": [
    {
     "data": {
      "text/plain": [
       "'200'"
      ]
     },
     "execution_count": 12,
     "metadata": {},
     "output_type": "execute_result"
    }
   ],
   "source": [
    "d1.get('id')"
   ]
  },
  {
   "cell_type": "code",
   "execution_count": 13,
   "metadata": {},
   "outputs": [
    {
     "name": "stdout",
     "output_type": "stream",
     "text": [
      "[('id', '200'), ('name', 'Ali'), ('skills', ['a', 'b', 'c', 'd'])]\n",
      "['id', 'name', 'skills']\n",
      "['200', 'Ali', ['a', 'b', 'c', 'd']]\n"
     ]
    }
   ],
   "source": [
    "print(list(d1.items()))\n",
    "print(list(d1.keys()))\n",
    "print(list(d1.values()))"
   ]
  },
  {
   "cell_type": "code",
   "execution_count": 14,
   "metadata": {},
   "outputs": [
    {
     "name": "stdout",
     "output_type": "stream",
     "text": [
      "{'id': '200', 'name': 'Ali', 'skills': ['a', 'b', 'c', 'd']}\n",
      "('skills', ['a', 'b', 'c', 'd'])\n",
      "{'id': '200', 'name': 'Ali'}\n"
     ]
    }
   ],
   "source": [
    "d1 = {'id':'200','name':'Ali','skills':['a','b','c','d']}\n",
    "print(d1)\n",
    "print(d1.popitem())\n",
    "print(d1)"
   ]
  },
  {
   "cell_type": "code",
   "execution_count": 16,
   "metadata": {},
   "outputs": [
    {
     "name": "stdout",
     "output_type": "stream",
     "text": [
      "{'id': '200', 'name': 'Ali', 'skills': ['a', 'b', 'c', 'd']}\n",
      "200\n",
      "200\n",
      "{'id': '200', 'name': 'Ali', 'skills': ['a', 'b', 'c', 'd']}\n"
     ]
    }
   ],
   "source": [
    "d1 = {'id':'200','name':'Ali','skills':['a','b','c','d']}\n",
    "print(d1)\n",
    "print(d1.setdefault('id','ABC'))\n",
    "print(d1.setdefault('id','203'))\n",
    "print(d1)"
   ]
  },
  {
   "cell_type": "code",
   "execution_count": 17,
   "metadata": {},
   "outputs": [
    {
     "data": {
      "text/plain": [
       "{'a': 125, 'b': 200, 'c': 100, 'x': 200}"
      ]
     },
     "execution_count": 17,
     "metadata": {},
     "output_type": "execute_result"
    }
   ],
   "source": [
    "dic1 = {'a':1,'b':2,'c':100}\n",
    "dic2 = {'x':200,'b':200,'a':125}\n",
    "\n",
    "dic1.update(dic2)\n",
    "dic1"
   ]
  },
  {
   "cell_type": "code",
   "execution_count": 19,
   "metadata": {},
   "outputs": [
    {
     "data": {
      "text/plain": [
       "{'a': 400, 'c': 200, 'd': 300, 'e': 600}"
      ]
     },
     "execution_count": 19,
     "metadata": {},
     "output_type": "execute_result"
    }
   ],
   "source": [
    "d1 ={\n",
    "    'c' : 200,\n",
    "    'd' : 300,\n",
    "    'e' : 600,\n",
    "    'a' : 400\n",
    "}\n",
    "\n",
    "d2 = {}\n",
    "\n",
    "for i in sorted(d1.keys()):\n",
    "    d2[i] = d1[i]\n",
    "    \n",
    "d2"
   ]
  },
  {
   "cell_type": "code",
   "execution_count": 20,
   "metadata": {},
   "outputs": [
    {
     "name": "stdin",
     "output_type": "stream",
     "text": [
      "Press n/N to stop:  a\n",
      "Id:  200\n",
      "Name:  Maria\n",
      "Skills:  AI, web-scraping , C++\n",
      "Press n/N to stop:  q\n",
      "Id:  3\n",
      "Name:  Ali\n",
      "Skills:  C++\n",
      "Press n/N to stop:  n\n"
     ]
    },
    {
     "name": "stdout",
     "output_type": "stream",
     "text": [
      "[{'id': '200', 'name': 'Maria', 'Skills': ['AI', 'web-scraping ', 'C++']}, {'id': '3', 'name': 'Ali', 'Skills': ['C++']}]\n"
     ]
    }
   ],
   "source": [
    "l1 = []\n",
    "run = True\n",
    "while run:\n",
    "    choice = input(\"Press n/N to stop: \")\n",
    "    if choice == \"n\" or choice == \"N\":\n",
    "        run = False\n",
    "    else:\n",
    "        d1 = {\n",
    "            \"id\" : input(\"Id: \"),\n",
    "            \"name\" : input(\"Name: \"),\n",
    "            \"Skills\" : input(\"Skills: \").split(\", \")\n",
    "            \n",
    "        }\n",
    "        l1.append(d1)\n",
    "print(l1,sep = \"\\n\")"
   ]
  },
  {
   "cell_type": "code",
   "execution_count": 25,
   "metadata": {},
   "outputs": [
    {
     "data": {
      "text/plain": [
       "[('E', 'Z', 20), ('Z', 'X', 100), ('A', 'Y', 50)]"
      ]
     },
     "execution_count": 25,
     "metadata": {},
     "output_type": "execute_result"
    }
   ],
   "source": [
    "a = [(\"E\",\"Z\",20),\n",
    "     (\"Z\",\"X\",100),\n",
    "     (\"A\",\"Y\",50)\n",
    "    ]\n",
    "\n",
    "a"
   ]
  },
  {
   "cell_type": "code",
   "execution_count": 26,
   "metadata": {},
   "outputs": [],
   "source": [
    "def abc(x):\n",
    "    return x[-1]"
   ]
  },
  {
   "cell_type": "code",
   "execution_count": 27,
   "metadata": {},
   "outputs": [
    {
     "data": {
      "text/plain": [
       "[('Z', 'X', 100), ('A', 'Y', 50), ('E', 'Z', 20)]"
      ]
     },
     "execution_count": 27,
     "metadata": {},
     "output_type": "execute_result"
    }
   ],
   "source": [
    "sorted(a, key = abc, reverse = True)"
   ]
  },
  {
   "cell_type": "code",
   "execution_count": 28,
   "metadata": {},
   "outputs": [
    {
     "data": {
      "text/plain": [
       "[('Z', 'X', 100), ('A', 'Y', 50), ('E', 'Z', 20)]"
      ]
     },
     "execution_count": 28,
     "metadata": {},
     "output_type": "execute_result"
    }
   ],
   "source": [
    "a = [(\"E\",\"Z\",20),\n",
    "     (\"Z\",\"X\",100),\n",
    "     (\"A\",\"Y\",50)\n",
    "    ]\n",
    "\n",
    "sorted (a,key = lambda x:x[-1],reverse = True)\n"
   ]
  },
  {
   "cell_type": "code",
   "execution_count": null,
   "metadata": {},
   "outputs": [],
   "source": []
  }
 ],
 "metadata": {
  "kernelspec": {
   "display_name": "Python 3",
   "language": "python",
   "name": "python3"
  },
  "language_info": {
   "codemirror_mode": {
    "name": "ipython",
    "version": 3
   },
   "file_extension": ".py",
   "mimetype": "text/x-python",
   "name": "python",
   "nbconvert_exporter": "python",
   "pygments_lexer": "ipython3",
   "version": "3.7.3"
  }
 },
 "nbformat": 4,
 "nbformat_minor": 4
}
