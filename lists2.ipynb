{
 "cells": [
  {
   "cell_type": "markdown",
   "metadata": {},
   "source": [
    "## LISTS CONTINUED"
   ]
  },
  {
   "cell_type": "code",
   "execution_count": 2,
   "metadata": {},
   "outputs": [
    {
     "name": "stdout",
     "output_type": "stream",
     "text": [
      "1\n",
      "4\n"
     ]
    }
   ],
   "source": [
    "l1 = ['a','b','c','a','b','c']\n",
    "print(l1.index('b'))\n",
    "print(l1.index('b',2))\n",
    "\n"
   ]
  },
  {
   "cell_type": "code",
   "execution_count": 4,
   "metadata": {},
   "outputs": [
    {
     "name": "stdout",
     "output_type": "stream",
     "text": [
      "['C', 'B', 'A']\n",
      "['C', 'D', 'B', 'A']\n"
     ]
    }
   ],
   "source": [
    "l1 = []\n",
    "l1.insert(0,\"A\")#[\"A\"]\n",
    "l1.insert(0,\"B\")#[\"B\",\"A\"]\n",
    "l1.insert(0,\"C\")#[\"C\",\"B\",\"A\"]\n",
    "print(l1)\n",
    "l1.insert(1,\"D\")\n",
    "print(l1)"
   ]
  },
  {
   "cell_type": "code",
   "execution_count": 6,
   "metadata": {},
   "outputs": [
    {
     "data": {
      "text/plain": [
       "['A']"
      ]
     },
     "execution_count": 6,
     "metadata": {},
     "output_type": "execute_result"
    }
   ],
   "source": [
    "l1 = [\"A\",\"B\",\"C\"]\n",
    "\n",
    "del l1[-1] #[\"A\",\"B\"]\n",
    "del l1[-1] #[\"A\"]\n",
    "l1"
   ]
  },
  {
   "cell_type": "code",
   "execution_count": 8,
   "metadata": {},
   "outputs": [
    {
     "name": "stdout",
     "output_type": "stream",
     "text": [
      "['A', 'B']\n",
      "['E', 'D', 'C']\n"
     ]
    }
   ],
   "source": [
    "l2 = []\n",
    "l1 = [\"A\",\"B\",\"C\",\"D\",\"E\"]\n",
    "\n",
    "a = l1.pop() # E\n",
    "l2.append(a) # [E]\n",
    "\n",
    "a = l1.pop() # D\n",
    "l2.append(a) # [E,D]\n",
    "\n",
    "a = l1.pop() # C\n",
    "l2.append(a) # [E,D,C]\n",
    "\n",
    "print(l1) #[A,B]\n",
    "print(l2) #[E,D,C]"
   ]
  },
  {
   "cell_type": "code",
   "execution_count": 9,
   "metadata": {},
   "outputs": [
    {
     "name": "stdout",
     "output_type": "stream",
     "text": [
      "['A', 'B', 'C', 'D', 'E']\n",
      "['E', 'D', 'C', 'B', 'A']\n"
     ]
    }
   ],
   "source": [
    "l1 = [\"A\",\"B\",\"C\",\"D\",\"E\"]\n",
    "print(l1)\n",
    "l1.reverse()\n",
    "print(l1)"
   ]
  },
  {
   "cell_type": "code",
   "execution_count": 11,
   "metadata": {},
   "outputs": [
    {
     "name": "stdout",
     "output_type": "stream",
     "text": [
      "['A', 'C', 'B', 'E']\n",
      "['A', 'C', 'E']\n"
     ]
    }
   ],
   "source": [
    "l1 = [\"A\",\"B\",\"C\",\"B\",\"E\"]\n",
    "l1.remove(\"B\")\n",
    "print(l1)\n",
    "l1.remove(\"B\")\n",
    "print(l1)"
   ]
  },
  {
   "cell_type": "code",
   "execution_count": 12,
   "metadata": {},
   "outputs": [
    {
     "name": "stdout",
     "output_type": "stream",
     "text": [
      "['A', 'B', 'X', 'C', 'Y', 'Z']\n",
      "['A', 'B', 'C', 'X', 'Y', 'Z']\n"
     ]
    }
   ],
   "source": [
    "l1 = [\"A\",\"B\",\"X\",\"C\",\"Y\",\"Z\"]\n",
    "print(l1)\n",
    "l1.sort()\n",
    "print(l1)"
   ]
  },
  {
   "cell_type": "code",
   "execution_count": 13,
   "metadata": {},
   "outputs": [
    {
     "name": "stdout",
     "output_type": "stream",
     "text": [
      "['A', 'B', 'X', 'C', 'Y', 'Z']\n",
      "['Z', 'Y', 'X', 'C', 'B', 'A']\n"
     ]
    }
   ],
   "source": [
    "l1 = [\"A\",\"B\",\"X\",\"C\",\"Y\",\"Z\"]\n",
    "print(l1)\n",
    "l1.sort(reverse = True) # in reverse order\n",
    "print(l1)"
   ]
  },
  {
   "cell_type": "code",
   "execution_count": 14,
   "metadata": {},
   "outputs": [
    {
     "name": "stdout",
     "output_type": "stream",
     "text": [
      "['A', 'B', 'C'] ['X', 'Z']\n",
      "['A', 'B', 'C', 'X', 'Z']\n",
      "['A', 'B', 'C'] ['X', 'Z']\n"
     ]
    }
   ],
   "source": [
    "l1 = [\"A\",\"B\",\"C\"]\n",
    "l2 = [\"X\",\"Z\"]\n",
    "\n",
    "print(l1,l2)\n",
    "print(l1.__add__(l2)) #inline operation\n",
    "print(l1,l2)"
   ]
  },
  {
   "cell_type": "code",
   "execution_count": 15,
   "metadata": {},
   "outputs": [
    {
     "name": "stdout",
     "output_type": "stream",
     "text": [
      "['A', 'B', 'C']\n"
     ]
    },
    {
     "data": {
      "text/plain": [
       "True"
      ]
     },
     "execution_count": 15,
     "metadata": {},
     "output_type": "execute_result"
    }
   ],
   "source": [
    "print(l1)\n",
    "l1.__contains__(\"A\")"
   ]
  },
  {
   "cell_type": "code",
   "execution_count": 16,
   "metadata": {},
   "outputs": [
    {
     "data": {
      "text/plain": [
       "['A', 'C']"
      ]
     },
     "execution_count": 16,
     "metadata": {},
     "output_type": "execute_result"
    }
   ],
   "source": [
    "l1 = [\"A\",\"B\",\"C\"]\n",
    "l1.__delitem__(1)\n",
    "l1"
   ]
  },
  {
   "cell_type": "code",
   "execution_count": 17,
   "metadata": {},
   "outputs": [
    {
     "data": {
      "text/plain": [
       "'Built-in mutable sequence.\\n\\nIf no argument is given, the constructor creates a new empty list.\\nThe argument must be an iterable if specified.'"
      ]
     },
     "execution_count": 17,
     "metadata": {},
     "output_type": "execute_result"
    }
   ],
   "source": [
    "l1.__doc__"
   ]
  },
  {
   "cell_type": "code",
   "execution_count": 18,
   "metadata": {},
   "outputs": [
    {
     "data": {
      "text/plain": [
       "False"
      ]
     },
     "execution_count": 18,
     "metadata": {},
     "output_type": "execute_result"
    }
   ],
   "source": [
    "#[1,2,3]\n",
    "#[1,2,3]\n",
    "#True\n",
    "[1,2,3].__eq__([3,2,1])"
   ]
  },
  {
   "cell_type": "code",
   "execution_count": 19,
   "metadata": {},
   "outputs": [
    {
     "data": {
      "text/plain": [
       "True"
      ]
     },
     "execution_count": 19,
     "metadata": {},
     "output_type": "execute_result"
    }
   ],
   "source": [
    "#5,7,9\n",
    "#1,2,4\n",
    "\n",
    "[5,7,9].__ge__([1,2,3])\n"
   ]
  },
  {
   "cell_type": "code",
   "execution_count": 20,
   "metadata": {},
   "outputs": [
    {
     "data": {
      "text/plain": [
       "['A', 'A']"
      ]
     },
     "execution_count": 20,
     "metadata": {},
     "output_type": "execute_result"
    }
   ],
   "source": [
    "['A'].__mul__(2)"
   ]
  },
  {
   "cell_type": "code",
   "execution_count": 21,
   "metadata": {},
   "outputs": [
    {
     "data": {
      "text/plain": [
       "['A', 'A']"
      ]
     },
     "execution_count": 21,
     "metadata": {},
     "output_type": "execute_result"
    }
   ],
   "source": [
    "['A'] * 2"
   ]
  },
  {
   "cell_type": "code",
   "execution_count": 23,
   "metadata": {},
   "outputs": [
    {
     "data": {
      "text/plain": [
       "48"
      ]
     },
     "execution_count": 23,
     "metadata": {},
     "output_type": "execute_result"
    }
   ],
   "source": [
    "['A'].__sizeof__()"
   ]
  },
  {
   "cell_type": "code",
   "execution_count": null,
   "metadata": {},
   "outputs": [],
   "source": []
  }
 ],
 "metadata": {
  "kernelspec": {
   "display_name": "Python 3",
   "language": "python",
   "name": "python3"
  },
  "language_info": {
   "codemirror_mode": {
    "name": "ipython",
    "version": 3
   },
   "file_extension": ".py",
   "mimetype": "text/x-python",
   "name": "python",
   "nbconvert_exporter": "python",
   "pygments_lexer": "ipython3",
   "version": "3.7.3"
  }
 },
 "nbformat": 4,
 "nbformat_minor": 4
}
